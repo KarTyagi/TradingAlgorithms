{
 "cells": [
  {
   "cell_type": "code",
   "execution_count": 9,
   "id": "e7216818",
   "metadata": {},
   "outputs": [
    {
     "name": "stdout",
     "output_type": "stream",
     "text": [
      "Collecting polygon\n",
      "  Downloading polygon-1.2.6-py2.py3-none-any.whl.metadata (9.9 kB)\n",
      "Requirement already satisfied: requests in c:\\users\\tyagi\\appdata\\local\\packages\\pythonsoftwarefoundation.python.3.11_qbz5n2kfra8p0\\localcache\\local-packages\\python311\\site-packages (from polygon) (2.32.4)\n",
      "Collecting websockets (from polygon)\n",
      "  Downloading websockets-15.0.1-cp311-cp311-win_amd64.whl.metadata (7.0 kB)\n",
      "Collecting websocket-client (from polygon)\n",
      "  Using cached websocket_client-1.8.0-py3-none-any.whl.metadata (8.0 kB)\n",
      "Collecting httpx (from polygon)\n",
      "  Downloading httpx-0.28.1-py3-none-any.whl.metadata (7.1 kB)\n",
      "Collecting anyio (from httpx->polygon)\n",
      "  Downloading anyio-4.9.0-py3-none-any.whl.metadata (4.7 kB)\n",
      "Requirement already satisfied: certifi in c:\\users\\tyagi\\appdata\\local\\packages\\pythonsoftwarefoundation.python.3.11_qbz5n2kfra8p0\\localcache\\local-packages\\python311\\site-packages (from httpx->polygon) (2025.6.15)\n",
      "Collecting httpcore==1.* (from httpx->polygon)\n",
      "  Downloading httpcore-1.0.9-py3-none-any.whl.metadata (21 kB)\n",
      "Requirement already satisfied: idna in c:\\users\\tyagi\\appdata\\local\\packages\\pythonsoftwarefoundation.python.3.11_qbz5n2kfra8p0\\localcache\\local-packages\\python311\\site-packages (from httpx->polygon) (3.10)\n",
      "Collecting h11>=0.16 (from httpcore==1.*->httpx->polygon)\n",
      "  Downloading h11-0.16.0-py3-none-any.whl.metadata (8.3 kB)\n",
      "Requirement already satisfied: charset_normalizer<4,>=2 in c:\\users\\tyagi\\appdata\\local\\packages\\pythonsoftwarefoundation.python.3.11_qbz5n2kfra8p0\\localcache\\local-packages\\python311\\site-packages (from requests->polygon) (3.4.2)\n",
      "Requirement already satisfied: urllib3<3,>=1.21.1 in c:\\users\\tyagi\\appdata\\local\\packages\\pythonsoftwarefoundation.python.3.11_qbz5n2kfra8p0\\localcache\\local-packages\\python311\\site-packages (from requests->polygon) (2.5.0)\n",
      "Collecting sniffio>=1.1 (from anyio->httpx->polygon)\n",
      "  Using cached sniffio-1.3.1-py3-none-any.whl.metadata (3.9 kB)\n",
      "Requirement already satisfied: typing_extensions>=4.5 in c:\\users\\tyagi\\appdata\\local\\packages\\pythonsoftwarefoundation.python.3.11_qbz5n2kfra8p0\\localcache\\local-packages\\python311\\site-packages (from anyio->httpx->polygon) (4.14.0)\n",
      "Downloading polygon-1.2.6-py2.py3-none-any.whl (111 kB)\n",
      "   ---------------------------------------- 0.0/112.0 kB ? eta -:--:--\n",
      "   --------------------- ------------------ 61.4/112.0 kB 1.7 MB/s eta 0:00:01\n",
      "   ---------------------------------------- 112.0/112.0 kB 1.6 MB/s eta 0:00:00\n",
      "Downloading httpx-0.28.1-py3-none-any.whl (73 kB)\n",
      "   ---------------------------------------- 0.0/73.5 kB ? eta -:--:--\n",
      "   --------------------------------- ------ 61.4/73.5 kB ? eta -:--:--\n",
      "   ---------------------------------------- 73.5/73.5 kB 2.0 MB/s eta 0:00:00\n",
      "Downloading httpcore-1.0.9-py3-none-any.whl (78 kB)\n",
      "   ---------------------------------------- 0.0/78.8 kB ? eta -:--:--\n",
      "   -------------------- ------------------- 41.0/78.8 kB 1.9 MB/s eta 0:00:01\n",
      "   ---------------------------------------- 78.8/78.8 kB 1.5 MB/s eta 0:00:00\n",
      "Using cached websocket_client-1.8.0-py3-none-any.whl (58 kB)\n",
      "Downloading websockets-15.0.1-cp311-cp311-win_amd64.whl (176 kB)\n",
      "   ---------------------------------------- 0.0/176.8 kB ? eta -:--:--\n",
      "   -------------------- ------------------- 92.2/176.8 kB 2.6 MB/s eta 0:00:01\n",
      "   ---------------------------------------- 176.8/176.8 kB 2.6 MB/s eta 0:00:00\n",
      "Downloading anyio-4.9.0-py3-none-any.whl (100 kB)\n",
      "   ---------------------------------------- 0.0/100.9 kB ? eta -:--:--\n",
      "   ------------------------ --------------- 61.4/100.9 kB ? eta -:--:--\n",
      "   ---------------------------------------- 100.9/100.9 kB 1.9 MB/s eta 0:00:00\n",
      "Downloading h11-0.16.0-py3-none-any.whl (37 kB)\n",
      "Using cached sniffio-1.3.1-py3-none-any.whl (10 kB)\n",
      "Installing collected packages: websockets, websocket-client, sniffio, h11, httpcore, anyio, httpx, polygon\n",
      "Successfully installed anyio-4.9.0 h11-0.16.0 httpcore-1.0.9 httpx-0.28.1 polygon-1.2.6 sniffio-1.3.1 websocket-client-1.8.0 websockets-15.0.1\n"
     ]
    },
    {
     "name": "stderr",
     "output_type": "stream",
     "text": [
      "\n",
      "[notice] A new release of pip is available: 24.0 -> 25.1.1\n",
      "[notice] To update, run: C:\\Users\\tyagi\\AppData\\Local\\Microsoft\\WindowsApps\\PythonSoftwareFoundation.Python.3.11_qbz5n2kfra8p0\\python.exe -m pip install --upgrade pip\n"
     ]
    }
   ],
   "source": [
    "!pip install polygon"
   ]
  },
  {
   "cell_type": "code",
   "execution_count": 11,
   "id": "acade421",
   "metadata": {},
   "outputs": [],
   "source": [
    "import requests"
   ]
  },
  {
   "cell_type": "code",
   "execution_count": null,
   "id": "f3b1d2d3",
   "metadata": {},
   "outputs": [
    {
     "name": "stdout",
     "output_type": "stream",
     "text": [
      "'market_cap' column not found. Available columns: ['ticker', 'name', 'market', 'locale', 'primary_exchange', 'type', 'active', 'currency_name', 'cik', 'last_updated_utc', 'composite_figi', 'share_class_figi']\n",
      "  ticker                                               name  market locale  \\\n",
      "0   AACB  Artius II Acquisition Inc. Class A Ordinary Sh...  stocks     us   \n",
      "1  AACBR                  Artius II Acquisition Inc. Rights  stocks     us   \n",
      "2  AACBU                   Artius II Acquisition Inc. Units  stocks     us   \n",
      "3   AACG   ATA Creativity Global American Depositary Shares  stocks     us   \n",
      "4   AACI  Armada Acquisition Corp. II Class A Ordinary S...  stocks     us   \n",
      "\n",
      "  primary_exchange   type  active currency_name         cik  \\\n",
      "0             XNAS     CS    True           usd  0002034334   \n",
      "1             XNAS  RIGHT    True           usd  0002034334   \n",
      "2             XNAS   UNIT    True           usd  0002034334   \n",
      "3             XNAS   ADRC    True           usd  0001420529   \n",
      "4             XNAS     CS    True           usd  0002044009   \n",
      "\n",
      "       last_updated_utc composite_figi share_class_figi  \n",
      "0  2025-06-27T00:00:00Z            NaN              NaN  \n",
      "1  2025-06-27T00:00:00Z            NaN              NaN  \n",
      "2  2025-06-27T00:00:00Z            NaN              NaN  \n",
      "3  2025-06-23T00:00:00Z   BBG000V2S3P6     BBG001T125S9  \n",
      "4  2025-06-27T00:00:00Z            NaN              NaN  \n"
     ]
    }
   ],
   "source": [
    "import pandas as pd\n",
    "import requests\n",
    "\n",
    "api_key = \"2YzDBsof_v5re2giJiCzkB2l1pX8dTyn\"\n",
    "\n",
    "# Polygon API endpoint for tickers with market cap >= 100 million\n",
    "url = (\n",
    "    f\"https://api.polygon.io/v3/reference/tickers?market=stocks&exchange=XNAS&active=true&order=asc&limit=1000&sort=ticker\"\n",
    "    f\"&market_cap.gte=100000000&apiKey={api_key}\"\n",
    ")\n",
    "\n",
    "try:\n",
    "    response = requests.get(url, timeout=10)\n",
    "    if response.status_code == 200:\n",
    "        data = response.json()\n",
    "        if 'results' in data and len(data['results']) > 0:\n",
    "            df = pd.DataFrame(data['results'])\n",
    "            if 'market_cap' in df.columns:\n",
    "                print(df[['ticker', 'market_cap']])  # Show ticker and market cap columns\n",
    "            else:\n",
    "                print(\"'market_cap' column not found. Available columns:\", df.columns.tolist())\n",
    "                print(df)\n",
    "        else:\n",
    "            print(\"No results found.\")\n",
    "    else:\n",
    "        print(f\"API request failed with status code: {response.status_code}\")\n",
    "except Exception as e:\n",
    "    print(f\"[DEBUG] Polygon API error: {e}\")\n",
    "\n"
   ]
  }
 ],
 "metadata": {
  "kernelspec": {
   "display_name": "Python 3",
   "language": "python",
   "name": "python3"
  },
  "language_info": {
   "codemirror_mode": {
    "name": "ipython",
    "version": 3
   },
   "file_extension": ".py",
   "mimetype": "text/x-python",
   "name": "python",
   "nbconvert_exporter": "python",
   "pygments_lexer": "ipython3",
   "version": "3.11.9"
  }
 },
 "nbformat": 4,
 "nbformat_minor": 5
}
